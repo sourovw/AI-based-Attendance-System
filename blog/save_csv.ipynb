{
 "cells": [
  {
   "cell_type": "code",
   "execution_count": null,
   "metadata": {},
   "outputs": [],
   "source": [
    "import os\n",
    "import pandas as pd\n",
    "from datetime import datetime\n",
    "\n",
    "\n",
    "def write_attendance():\n",
    "    user = input()\n",
    "    path = \"./generated_files/\" + user + '/'\n",
    "\n",
    "    if not os.path.exists(path):\n",
    "        os.makedirs(path)\n",
    "\n",
    "    now = datetime.now()\n",
    "    date = now.strftime(\"%Y-%m-%d\")\n",
    "    time = now.strftime(\"%H:%M:%S\")\n",
    "\n",
    "    ym = now.strftime(\"%Y-%m\")\n",
    "    fn = path + user + '-' + ym + '.csv'\n",
    "\n",
    "    if not os.path.exists(fn):\n",
    "        df = pd.DataFrame(columns=['Reg. No.', 'Date', 'Time'])\n",
    "        df.to_csv(fn, index=False)\n",
    "    \n",
    "    df = pd.read_csv(fn)\n",
    "    lst = df['Date'].tolist()\n",
    "\n",
    "    if date in lst:\n",
    "        print('You have already gave your attendance.')\n",
    "    else:\n",
    "        df.loc[len(df)] = [user, date, time]\n",
    "        df.to_csv(fn, index=False)\n",
    "        print('Your attendance has been updated.')\n",
    "        print('{}'.format(df))\n",
    "\n",
    "\n",
    "if __name__ == '__main__':\n",
    "    write_attendance()"
   ]
  }
 ],
 "metadata": {
  "interpreter": {
   "hash": "18bf715331310f0c46d13d6058373d9ed730e85d51a0e93255480779429d129f"
  },
  "kernelspec": {
   "display_name": "Python 3.8.11 64-bit ('flask2': conda)",
   "language": "python",
   "name": "python3"
  },
  "language_info": {
   "codemirror_mode": {
    "name": "ipython",
    "version": 3
   },
   "file_extension": ".py",
   "mimetype": "text/x-python",
   "name": "python",
   "nbconvert_exporter": "python",
   "pygments_lexer": "ipython3",
   "version": "3.8.8"
  },
  "orig_nbformat": 4
 },
 "nbformat": 4,
 "nbformat_minor": 2
}
