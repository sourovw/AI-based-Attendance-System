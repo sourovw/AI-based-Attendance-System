{
 "cells": [
  {
   "cell_type": "code",
   "execution_count": 10,
   "metadata": {},
   "outputs": [
    {
     "name": "stdout",
     "output_type": "stream",
     "text": [
      "File copied\n"
     ]
    }
   ],
   "source": [
    "import os\n",
    "\n",
    "\n",
    "username = input(\"Enter your name: \")\n",
    "os.makedirs('blog/static/faces/' + username)\n",
    "\n",
    "src = './static/extras/default.png'\n",
    "dst = 'blog/static/faces/' + username + '/default.png'\n",
    "\n",
    "with open(src, 'rb') as f:\n",
    "    data = f.read()\n",
    "with open(dst, 'wb') as f:\n",
    "    f.write(data)\n",
    "    print(\"File copied\")"
   ]
  }
 ],
 "metadata": {
  "interpreter": {
   "hash": "18bf715331310f0c46d13d6058373d9ed730e85d51a0e93255480779429d129f"
  },
  "kernelspec": {
   "display_name": "Python 3.8.11 64-bit ('flask2': conda)",
   "language": "python",
   "name": "python3"
  },
  "language_info": {
   "codemirror_mode": {
    "name": "ipython",
    "version": 3
   },
   "file_extension": ".py",
   "mimetype": "text/x-python",
   "name": "python",
   "nbconvert_exporter": "python",
   "pygments_lexer": "ipython3",
   "version": "3.8.11"
  },
  "orig_nbformat": 4
 },
 "nbformat": 4,
 "nbformat_minor": 2
}
